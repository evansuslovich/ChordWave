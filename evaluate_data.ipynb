{
 "cells": [
  {
   "cell_type": "markdown",
   "metadata": {
    "colab_type": "text",
    "id": "view-in-github"
   },
   "source": [
    "<a href=\"https://colab.research.google.com/github/evansuslovich/ChordWave/blob/main/Chord_Test.ipynb\" target=\"_parent\"><img src=\"https://colab.research.google.com/assets/colab-badge.svg\" alt=\"Open In Colab\"/></a>"
   ]
  },
  {
   "cell_type": "code",
   "execution_count": null,
   "metadata": {
    "colab": {
     "base_uri": "https://localhost:8080/"
    },
    "id": "x9CDuZbCegaX",
    "outputId": "8fe46acc-6988-4a86-a3b3-f6adca5e07a5"
   },
   "outputs": [],
   "source": [
    "import pandas as pd\n",
    "\n",
    "df = pd.read_csv(\"hf://datasets/ailsntua/Chordonomicon/chordonomicon_v2.csv\")"
   ]
  },
  {
   "cell_type": "code",
   "execution_count": null,
   "metadata": {
    "colab": {
     "base_uri": "https://localhost:8080/",
     "height": 206
    },
    "id": "2eV8-iNUAkZX",
    "outputId": "d1563bcb-ebfc-4124-82ec-67134ec4925f"
   },
   "outputs": [],
   "source": [
    "df.head()"
   ]
  },
  {
   "cell_type": "code",
   "execution_count": null,
   "metadata": {
    "colab": {
     "base_uri": "https://localhost:8080/",
     "height": 206
    },
    "id": "yMAANyPsA5Vo",
    "outputId": "df5e9ce4-ca3b-4a27-f9ba-de1a195b72d3"
   },
   "outputs": [],
   "source": [
    "subset_df = df[['id', 'chords', 'genres', 'decade', 'main_genre']]\n",
    "subset_df.head()"
   ]
  },
  {
   "cell_type": "code",
   "execution_count": null,
   "metadata": {
    "colab": {
     "base_uri": "https://localhost:8080/",
     "height": 206
    },
    "id": "CjLtdfQKB_5e",
    "outputId": "b640c7e9-7024-4f7f-8c4f-50000c1ce6a5"
   },
   "outputs": [],
   "source": [
    "cleaned_df = subset_df.dropna()\n",
    "cleaned_df.head()"
   ]
  },
  {
   "cell_type": "code",
   "execution_count": null,
   "metadata": {
    "colab": {
     "base_uri": "https://localhost:8080/",
     "height": 607
    },
    "id": "579HfTahCKwn",
    "outputId": "c971a0e2-c1ed-4329-8f73-fda53a3955e7"
   },
   "outputs": [],
   "source": [
    "import matplotlib.pyplot as plt\n",
    "\n",
    "# For 'main_genre'\n",
    "plt.figure(figsize=(10, 6))\n",
    "cleaned_df['main_genre'].value_counts().plot(kind='bar')\n",
    "plt.title('Distribution of Songs by Main Genre')\n",
    "plt.xlabel('Genre')\n",
    "plt.ylabel('Count')\n",
    "plt.xticks(rotation=45)\n",
    "plt.tight_layout()\n",
    "plt.show()"
   ]
  },
  {
   "cell_type": "code",
   "execution_count": null,
   "metadata": {
    "colab": {
     "base_uri": "https://localhost:8080/",
     "height": 607
    },
    "id": "SeZu3IcfDdtw",
    "outputId": "f0d3e891-dcb1-41d7-c401-116cffb7b188"
   },
   "outputs": [],
   "source": [
    "# For 'decade'\n",
    "plt.figure(figsize=(10, 6))\n",
    "cleaned_df['decade'].hist(bins=10)\n",
    "plt.title('Distribution of Songs by Decade')\n",
    "plt.xlabel('Decade')\n",
    "plt.ylabel('Frequency')\n",
    "plt.tight_layout()\n",
    "plt.show()"
   ]
  },
  {
   "cell_type": "code",
   "execution_count": null,
   "metadata": {
    "colab": {
     "base_uri": "https://localhost:8080/",
     "height": 807
    },
    "id": "pvFULMCDDg0c",
    "outputId": "043ef81d-9e4f-46d3-9e48-1864558cd35c"
   },
   "outputs": [],
   "source": [
    "# Create a crosstab of decade vs main_genre\n",
    "decade_genre = pd.crosstab(cleaned_df['decade'], cleaned_df['main_genre'])\n",
    "\n",
    "# Plot stacked bar chart\n",
    "decade_genre.plot(kind='bar', stacked=True, figsize=(12, 8))\n",
    "plt.title('Genre Distribution Across Decades')\n",
    "plt.xlabel('Decade')\n",
    "plt.ylabel('Count')\n",
    "plt.legend(title='Genre', bbox_to_anchor=(1.05, 1), loc='upper left')\n",
    "plt.tight_layout()\n",
    "plt.show()"
   ]
  },
  {
   "cell_type": "code",
   "execution_count": null,
   "metadata": {
    "id": "cqMDnXsDDtIl"
   },
   "outputs": [],
   "source": [
    "import seaborn as sns\n",
    "import re\n",
    "from collections import Counter\n",
    "\n",
    "def extract_chords(chord_string):\n",
    "    cleaned = re.sub(r'<[^>]+>', ' ', chord_string)\n",
    "    return [chord for chord in cleaned.split() if chord.strip()]"
   ]
  },
  {
   "cell_type": "code",
   "execution_count": null,
   "metadata": {
    "colab": {
     "base_uri": "https://localhost:8080/",
     "height": 607
    },
    "id": "hnUWiDQQG44Z",
    "outputId": "cafe478f-f5d8-4ca6-91e1-c2b32241ddc6"
   },
   "outputs": [],
   "source": [
    "cleaned_df['chord_list'] = cleaned_df['chords'].apply(extract_chords)\n",
    "\n",
    "cleaned_df['unique_chord_count'] = cleaned_df['chord_list'].apply(lambda x: len(set(x)))\n",
    "\n",
    "plt.figure(figsize=(12, 6))\n",
    "sns.barplot(x='main_genre', y='unique_chord_count', data=cleaned_df)\n",
    "plt.title('Average Number of Unique Chords by Genre')\n",
    "plt.xlabel('Genre')\n",
    "plt.ylabel('Average Unique Chord Count')\n",
    "plt.xticks(rotation=45)\n",
    "plt.tight_layout()\n",
    "plt.show()"
   ]
  },
  {
   "cell_type": "code",
   "execution_count": null,
   "metadata": {
    "id": "yXR8zaG_G9XN"
   },
   "outputs": [],
   "source": [
    "def top_chords_by_genre(genre_df, n=5):\n",
    "    all_chords = [chord for sublist in genre_df['chord_list'] for chord in sublist]\n",
    "    return Counter(all_chords).most_common(n)\n",
    "\n",
    "genre_top_chords = {}\n",
    "for genre in cleaned_df['main_genre'].unique():\n",
    "    genre_df = cleaned_df[cleaned_df['main_genre'] == genre]\n",
    "    genre_top_chords[genre] = top_chords_by_genre(genre_df)\n",
    "\n",
    "chord_genre_data = []\n",
    "for genre, chords in genre_top_chords.items():\n",
    "    for chord, count in chords:\n",
    "        chord_genre_data.append({'Genre': genre, 'Chord': chord, 'Count': count})\n",
    "\n",
    "chord_genre_df = pd.DataFrame(chord_genre_data)\n",
    "\n"
   ]
  },
  {
   "cell_type": "code",
   "execution_count": null,
   "metadata": {
    "colab": {
     "base_uri": "https://localhost:8080/",
     "height": 807
    },
    "id": "lsgv7oUeHL9v",
    "outputId": "20236fee-3396-42ea-a565-b6d60171edcc"
   },
   "outputs": [],
   "source": [
    "plt.figure(figsize=(14, 8))\n",
    "genres = chord_genre_df['Genre'].unique()\n",
    "for i, genre in enumerate(genres):\n",
    "    genre_data = chord_genre_df[chord_genre_df['Genre'] == genre]\n",
    "    x = range(len(genre_data))\n",
    "    plt.bar([j + i*0.2 for j in x], genre_data['Count'], width=0.2, label=genre)\n",
    "    if i == 0:\n",
    "        plt.xticks([j + 0.2*(len(genres)-1)/2 for j in x], genre_data['Chord'])\n",
    "\n",
    "plt.title('Top 5 Chords by Genre')\n",
    "plt.xlabel('Chord')\n",
    "plt.ylabel('Frequency')\n",
    "plt.legend()\n",
    "plt.tight_layout()\n",
    "plt.show()"
   ]
  },
  {
   "cell_type": "code",
   "execution_count": null,
   "metadata": {
    "id": "KNc_Ewv3IO-G"
   },
   "outputs": [],
   "source": [
    "def get_chord_freq_by_genre():\n",
    "    all_chords = [chord for sublist in cleaned_df['chord_list'] for chord in sublist]\n",
    "    top_chords = [chord for chord, _ in Counter(all_chords).most_common(15)]\n",
    "\n",
    "    result = {chord: [] for chord in top_chords}\n",
    "    result['Genre'] = []\n",
    "\n",
    "    for genre in cleaned_df['main_genre'].unique():\n",
    "        genre_df = cleaned_df[cleaned_df['main_genre'] == genre]\n",
    "        genre_chords = [chord for sublist in genre_df['chord_list'] for chord in sublist]\n",
    "        total_chords = len(genre_chords)\n",
    "\n",
    "        if total_chords == 0:\n",
    "            continue\n",
    "\n",
    "        genre_counter = Counter(genre_chords)\n",
    "        result['Genre'].append(genre)\n",
    "\n",
    "        for chord in top_chords:\n",
    "            percentage = (genre_counter.get(chord, 0) / total_chords) * 100\n",
    "            result[chord].append(percentage)\n",
    "\n",
    "    return pd.DataFrame(result)"
   ]
  },
  {
   "cell_type": "code",
   "execution_count": null,
   "metadata": {
    "colab": {
     "base_uri": "https://localhost:8080/",
     "height": 1000
    },
    "id": "MdFa7LkcKDK3",
    "outputId": "0b9c14a2-7481-4299-ae2d-d53b5b671f22"
   },
   "outputs": [],
   "source": [
    "chord_freq_df = get_chord_freq_by_genre()\n",
    "chord_freq_pivot = chord_freq_df.set_index('Genre')\n",
    "\n",
    "plt.figure(figsize=(14, 10))\n",
    "sns.heatmap(chord_freq_pivot, annot=True, cmap='YlGnBu', fmt='.1f')\n",
    "plt.title('Percentage of Chord Usage by Genre')\n",
    "plt.ylabel('Genre')\n",
    "plt.xlabel('Chord')\n",
    "plt.tight_layout()\n",
    "plt.show()"
   ]
  },
  {
   "cell_type": "code",
   "execution_count": 21,
   "metadata": {
    "id": "f__05n5lKFdj"
   },
   "outputs": [
    {
     "name": "stdout",
     "output_type": "stream",
     "text": [
      "24523034\n"
     ]
    }
   ],
   "source": [
    "# put all chord data into csv\n",
    "chords = cleaned_df['chords']\n",
    "chord_data = []\n",
    "for chord in chords: \n",
    "    chord_data.extend(chord.split(\" \"))\n",
    "\n",
    "\n",
    "print(len(chord_data))\n",
    "\n"
   ]
  },
  {
   "cell_type": "code",
   "execution_count": null,
   "metadata": {},
   "outputs": [],
   "source": [
    "import pandas as pd\n",
    "from sklearn.model_selection import train_test_split\n",
    "\n",
    "# Assuming chord_data is already created\n",
    "# 1. First shuffle and split the data\n",
    "# train_data, temp_data = train_test_split(chord_data, test_size=0.2, random_state=42)\n",
    "# val_data, test_data = train_test_split(temp_data, test_size=0.5, random_state=42)\n",
    "\n",
    "full_data, full_test_data = train_test_split(chord_data, test_size=0.1, random_state=42)\n",
    "train_data_on_personal, test_data_on_personal = train_test_split(test_data, test_size=0.2, random_state=42)\n",
    "\n",
    "\n",
    "print(len(train_data_on_personal))\n",
    "print(len(test_data_on_personal))\n",
    "\n",
    "# 2. Convert to DataFrames\n",
    "# train_df = pd.DataFrame(train_data, columns=['chord'])\n",
    "# val_df = pd.DataFrame(val_data, columns=['chord'])\n",
    "# test_df = pd.DataFrame(test_data, columns=['chord'])\n",
    "\n",
    "# 3. Save to CSV files\n",
    "# train_df.to_csv(\"train_chords.csv\", index=False)\n",
    "# val_df.to_csv(\"val_chords.csv\", index=False)\n",
    "# test_df.to_csv(\"test_chords.csv\", index=False)\n",
    "\n",
    "train_data_on_personal_df = pd.DataFrame(train_data_on_personal, columns=['text'])\n",
    "print(len(train_data_on_personal_df))\n",
    "\n",
    "test_data_on_personal_df= pd.DataFrame(test_data_on_personal, columns=['text'])\n",
    "print(len(test_data_on_personal_df))\n",
    "\n",
    "# train_data_on_personal_df.to_csv(\"train_data_personal.csv\", index=False)\n",
    "# test_data_on_personal_df.to_csv(\"test_data_personal.csv\", index=False)\n"
   ]
  },
  {
   "cell_type": "code",
   "execution_count": 29,
   "metadata": {},
   "outputs": [
    {
     "name": "stdout",
     "output_type": "stream",
     "text": [
      "0.320%\n",
      "0.080%\n"
     ]
    }
   ],
   "source": [
    "import pandas as pd\n",
    "\n",
    "# test_df = pd.read_csv(\"test_chords.csv\")\n",
    "# print(len(test_df))\n",
    "# train_df = pd.read_csv(\"train_chords.csv\")\n",
    "# print(len(train_df))\n",
    "# val_df = pd.read_csv(\"val_chords.csv\")\n",
    "# print(len(val_df))\n",
    "\n",
    "\n",
    "train_data_personal_df = pd.read_csv(\"data/train_data_personal.csv\")\n",
    "test_data_personal_df = pd.read_csv(\"data/test_data_personal.csv\")\n",
    "\n",
    "train_data_compared_to_full_data = len(train_data_personal_df)/ len(chord_data)\n",
    "test_data_compared_to_full_data = len(test_data_personal_df)/ len(chord_data)\n",
    "\n",
    "print(f\"{train_data_compared_to_full_data * 100:.3f}%\")\n",
    "print(f\"{test_data_compared_to_full_data * 100:.3f}%\")\n",
    "\n"
   ]
  },
  {
   "cell_type": "code",
   "execution_count": 25,
   "metadata": {},
   "outputs": [
    {
     "name": "stdout",
     "output_type": "stream",
     "text": [
      "0.00320001187455027\n",
      "0.0008000233576318493\n"
     ]
    }
   ],
   "source": [
    "\n",
    "print(\"{}%\".format(78474/24523034 * 100))"
   ]
  }
 ],
 "metadata": {
  "colab": {
   "authorship_tag": "ABX9TyOba3Nm4iSFbAgvqqyrnDFJ",
   "gpuType": "T4",
   "include_colab_link": true,
   "provenance": []
  },
  "kernelspec": {
   "display_name": "Python 3 (ipykernel)",
   "language": "python",
   "name": "python3"
  },
  "language_info": {
   "codemirror_mode": {
    "name": "ipython",
    "version": 3
   },
   "file_extension": ".py",
   "mimetype": "text/x-python",
   "name": "python",
   "nbconvert_exporter": "python",
   "pygments_lexer": "ipython3",
   "version": "3.11.4"
  }
 },
 "nbformat": 4,
 "nbformat_minor": 1
}
